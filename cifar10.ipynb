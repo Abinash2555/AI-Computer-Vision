{
  "nbformat": 4,
  "nbformat_minor": 0,
  "metadata": {
    "colab": {
      "name": "cifar10.ipynb",
      "provenance": [],
      "authorship_tag": "ABX9TyOf+2FdjYFg42WpAM4jcZaF",
      "include_colab_link": true
    },
    "kernelspec": {
      "name": "python3",
      "display_name": "Python 3"
    },
    "accelerator": "TPU"
  },
  "cells": [
    {
      "cell_type": "markdown",
      "metadata": {
        "id": "view-in-github",
        "colab_type": "text"
      },
      "source": [
        "<a href=\"https://colab.research.google.com/github/Abinash2555/AI-Computer-Vision/blob/main/cifar10.ipynb\" target=\"_parent\"><img src=\"https://colab.research.google.com/assets/colab-badge.svg\" alt=\"Open In Colab\"/></a>"
      ]
    },
    {
      "cell_type": "code",
      "metadata": {
        "id": "VfeRZqOTv6V6"
      },
      "source": [
        "import tensorflow as tf\n",
        "from tensorflow.keras.preprocessing.image import ImageDataGenerator\n",
        "from tensorflow.keras.datasets.cifar10 import load_data\n",
        "from tensorflow.keras.applications.resnet import  ResNet50\n",
        "from tensorflow.keras.layers import Input , UpSampling2D , GlobalAveragePooling2D , Flatten , Dense , BatchNormalization\n",
        "from tensorflow.nn import relu , softmax\n",
        "from tensorflow.keras.models import Model\n",
        "\n",
        "import matplotlib.pyplot as plt\n",
        "%matplotlib inline\n",
        "import random"
      ],
      "execution_count": null,
      "outputs": []
    },
    {
      "cell_type": "code",
      "metadata": {
        "colab": {
          "base_uri": "https://localhost:8080/"
        },
        "id": "yCShRrjxv_ej",
        "outputId": "b129b8b4-5425-430d-c0ae-cdd1300314c3"
      },
      "source": [
        "(train_images , train_label) , (test_images , test_label) = load_data()"
      ],
      "execution_count": null,
      "outputs": [
        {
          "output_type": "stream",
          "text": [
            "Downloading data from https://www.cs.toronto.edu/~kriz/cifar-10-python.tar.gz\n",
            "170500096/170498071 [==============================] - 2s 0us/step\n"
          ],
          "name": "stdout"
        }
      ]
    },
    {
      "cell_type": "code",
      "metadata": {
        "colab": {
          "base_uri": "https://localhost:8080/"
        },
        "id": "743LVPTDwThK",
        "outputId": "84152f9a-bb29-4405-eaae-508bacfae2d2"
      },
      "source": [
        "print(\"Shape of train_images is : \",train_images.shape)\n",
        "print(\"Shape of train_label is : \",train_label.shape)\n",
        "print(\"Shape of test_images is : \",test_images.shape)\n",
        "print(\"Shape of test_label is : \",test_label.shape)"
      ],
      "execution_count": null,
      "outputs": [
        {
          "output_type": "stream",
          "text": [
            "Shape of train_images is :  (50000, 32, 32, 3)\n",
            "Shape of train_label is :  (50000, 1)\n",
            "Shape of test_images is :  (10000, 32, 32, 3)\n",
            "Shape of test_label is :  (10000, 1)\n"
          ],
          "name": "stdout"
        }
      ]
    },
    {
      "cell_type": "code",
      "metadata": {
        "colab": {
          "base_uri": "https://localhost:8080/"
        },
        "id": "UqzBFr69wW6j",
        "outputId": "d5036a9b-74e6-4506-896a-3a8f009af707"
      },
      "source": [
        "\n",
        "train_label = tf.keras.utils.to_categorical(train_label)\n",
        "test_label  = tf.keras.utils.to_categorical(test_label)\n",
        "\n",
        "print(\"Shape of train_images is : \",train_images.shape)\n",
        "print(\"Shape of train_label is : \",train_label.shape)\n",
        "print(\"Shape of test_images is : \",test_images.shape)\n",
        "print(\"Shape of test_label is : \",test_label.shape)"
      ],
      "execution_count": null,
      "outputs": [
        {
          "output_type": "stream",
          "text": [
            "Shape of train_images is :  (50000, 32, 32, 3)\n",
            "Shape of train_label is :  (50000, 10)\n",
            "Shape of test_images is :  (10000, 32, 32, 3)\n",
            "Shape of test_label is :  (10000, 10)\n"
          ],
          "name": "stdout"
        }
      ]
    },
    {
      "cell_type": "code",
      "metadata": {
        "id": "xTC-eE_cwanP"
      },
      "source": [
        "train_images = train_images.astype('float64')\n",
        "train_data   = tf.keras.applications.resnet50.preprocess_input(train_images)\n",
        "test_images  = test_images.astype('float64')\n",
        "test_data    = tf.keras.applications.resnet50.preprocess_input(test_images)"
      ],
      "execution_count": null,
      "outputs": []
    },
    {
      "cell_type": "code",
      "metadata": {
        "colab": {
          "base_uri": "https://localhost:8080/",
          "height": 308
        },
        "id": "W1lvioL1wghy",
        "outputId": "341b7f0c-fd8a-474d-c243-3f46f3ebd04f"
      },
      "source": [
        "fig , ax = plt.subplots(1,5,figsize=(18,4))\n",
        "for i in range(5):\n",
        "    ax[i].imshow(train_data[random.randint(0,500)])"
      ],
      "execution_count": null,
      "outputs": [
        {
          "output_type": "stream",
          "text": [
            "Clipping input data to the valid range for imshow with RGB data ([0..1] for floats or [0..255] for integers).\n",
            "Clipping input data to the valid range for imshow with RGB data ([0..1] for floats or [0..255] for integers).\n",
            "Clipping input data to the valid range for imshow with RGB data ([0..1] for floats or [0..255] for integers).\n",
            "Clipping input data to the valid range for imshow with RGB data ([0..1] for floats or [0..255] for integers).\n",
            "Clipping input data to the valid range for imshow with RGB data ([0..1] for floats or [0..255] for integers).\n"
          ],
          "name": "stderr"
        },
        {
          "output_type": "display_data",
          "data": {
            "image/png": "[encoded data removed]",
            "text/plain": [
              "<Figure size 1296x288 with 5 Axes>"
            ]
          },
          "metadata": {
            "tags": [],
            "needs_background": "light"
          }
        }
      ]
    },
    {
      "cell_type": "code",
      "metadata": {
        "colab": {
          "base_uri": "https://localhost:8080/"
        },
        "id": "o6dQtcKqwkYh",
        "outputId": "7f5d4ad7-d023-467a-b961-9288cc0a4647"
      },
      "source": [
        "# Create or Initialize the resnet block\n",
        "pre_trained_model = ResNet50(\n",
        "    include_top=False ,\n",
        "    weights='imagenet',\n",
        "    input_shape=(224,224,3)\n",
        ")\n",
        "\n",
        "layer_name = \"conv5_block3_2_bn\"\n",
        "trainable  = False\n",
        "for layer in pre_trained_model.layers:\n",
        "    if layer.name == layer_name:\n",
        "        print(\"Layer name is : %s\"%(layer.name))\n",
        "        trainable = True\n",
        "    layer.trainable = trainable\n",
        "\n",
        "# Add Inputs , flatten and classsifier layer\n",
        "\n",
        "inputs = Input(shape = (32,32,3))\n",
        "x = UpSampling2D((7,7))(inputs)\n",
        "x = pre_trained_model(x)\n",
        "x = GlobalAveragePooling2D()(x)\n",
        "x = Flatten()(x)\n",
        "x = Dense(1024 , activation = relu)(x)\n",
        "x = BatchNormalization()(x)\n",
        "x = Dense(512 , activation = relu)(x)\n",
        "x = BatchNormalization()(x)\n",
        "output = Dense(10 , activation=softmax)(x)\n",
        "\n",
        "model = Model(inputs , output)\n",
        "\n",
        "model.compile(\n",
        "    optimizer=tf.keras.optimizers.RMSprop(lr=0.0001) ,\n",
        "    loss=tf.keras.losses.categorical_crossentropy ,\n",
        "    metrics=['acc']\n",
        ")"
      ],
      "execution_count": null,
      "outputs": [
        {
          "output_type": "stream",
          "text": [
            "Downloading data from https://storage.googleapis.com/tensorflow/keras-applications/resnet/resnet50_weights_tf_dim_ordering_tf_kernels_notop.h5\n",
            "94773248/94765736 [==============================] - 1s 0us/step\n",
            "Layer name is : conv5_block3_2_bn\n"
          ],
          "name": "stdout"
        }
      ]
    },
    {
      "cell_type": "code",
      "metadata": {
        "colab": {
          "base_uri": "https://localhost:8080/"
        },
        "id": "U4_cdcQ_wqkE",
        "outputId": "e25ca234-1efc-42e0-9000-550f5e91bdd1"
      },
      "source": [
        "history = model.fit(\n",
        "    train_data,\n",
        "    train_label,\n",
        "    epochs=5,\n",
        "    validation_data = (test_data , test_label)\n",
        ")"
      ],
      "execution_count": null,
      "outputs": [
        {
          "output_type": "stream",
          "text": [
            "Epoch 1/5\n",
            "1183/1563 [=====================>........] - ETA: 33:04 - loss: 0.9262 - acc: 0.6905"
          ],
          "name": "stdout"
        }
      ]
    },
    {
      "cell_type": "code",
      "metadata": {
        "id": "0Z28_P8LwwEl"
      },
      "source": [
        "# Create or Initialize the resnet block\n",
        "pre_trained_model = ResNet50(\n",
        "    include_top=False ,\n",
        "    weights='imagenet',\n",
        "    input_shape=(224,224,3)\n",
        ")\n",
        "\n",
        "# Add Inputs , flatten and classsifier layer\n",
        "\n",
        "inputs = Input(shape = (32,32,3))\n",
        "x = UpSampling2D((7,7))(inputs)\n",
        "x = pre_trained_model(x)\n",
        "x = GlobalAveragePooling2D()(x)\n",
        "x = Flatten()(x)\n",
        "x = Dense(1024 , activation = relu)(x)\n",
        "x = BatchNormalization()(x)\n",
        "x = Dense(512 , activation = relu)(x)\n",
        "x = BatchNormalization()(x)\n",
        "output = Dense(10 , activation=softmax)(x)\n",
        "\n",
        "model = Model(inputs , output)\n",
        "\n",
        "model.compile(\n",
        "    optimizer=tf.keras.optimizers.RMSprop(lr=0.0001) ,\n",
        "    loss=tf.keras.losses.categorical_crossentropy ,\n",
        "    metrics=['acc']\n",
        ")\n",
        "\n",
        "history1 = model.fit(\n",
        "    train_data,\n",
        "    train_label,\n",
        "    epochs=5,\n",
        "    validation_data = (test_data , test_label)\n",
        ")"
      ],
      "execution_count": null,
      "outputs": []
    },
    {
      "cell_type": "code",
      "metadata": {
        "id": "I2H72Z9Mw3HD"
      },
      "source": [
        "\n",
        "_ , ax = plt.subplots(1,2,figsize = (16,5))\n",
        "ax[0].plot(history.history['acc'])\n",
        "ax[0].plot(history.history['val_acc'])\n",
        "ax[0].set_title(\"Accurecy\")\n",
        "\n",
        "ax[1].plot(history.history['loss'])\n",
        "ax[1].plot(history.history['val_loss'])\n",
        "ax[1].set_title(\"Loss\")"
      ],
      "execution_count": null,
      "outputs": []
    },
    {
      "cell_type": "code",
      "metadata": {
        "id": "d0QR-G5gxE4w"
      },
      "source": [
        "\n",
        "_ , ax = plt.subplots(1,2,figsize = (16,5))\n",
        "ax[0].plot(history1.history['acc'])\n",
        "ax[0].plot(history1.history['val_acc'])\n",
        "ax[0].set_title(\"Accurecy\")\n",
        "\n",
        "ax[1].plot(history1.history['loss'])\n",
        "ax[1].plot(history1.history['val_loss'])\n",
        "ax[1].set_title(\"Loss\")"
      ],
      "execution_count": null,
      "outputs": []
    },
    {
      "cell_type": "code",
      "metadata": {
        "id": "OUqCo8FixINW"
      },
      "source": [
        "classes = ['airplane', 'automobile', 'bird', 'cat', 'deer', 'dog', 'frog', 'horse', 'ship', 'truck']\n",
        "import urllib"
      ],
      "execution_count": null,
      "outputs": []
    },
    {
      "cell_type": "code",
      "metadata": {
        "id": "mi7ugHEixLSe"
      },
      "source": [
        "frog_img_url = \"https://static.scientificamerican.com/sciam/cache/file/41DF7DA0-EE58-4259-AA815A390FB37C55_source.jpg\"\n",
        "frog_img_name = \"frog.jpg\"\n",
        "urllib.request.urlretrieve(frog_img_url , frog_img_name)"
      ],
      "execution_count": null,
      "outputs": []
    },
    {
      "cell_type": "code",
      "metadata": {
        "id": "nkLvzg6axO_b"
      },
      "source": [
        "frog_img = tf.keras.preprocessing.image.load_img(frog_img_name , target_size=(32,32,3))\n",
        "frog_img = tf.keras.preprocessing.image.img_to_array(frog_img)\n",
        "frog = tf.keras.applications.resnet50.preprocess_input(frog_img)"
      ],
      "execution_count": null,
      "outputs": []
    },
    {
      "cell_type": "code",
      "metadata": {
        "id": "uafAq84axR04"
      },
      "source": [
        "plt.imshow(frog)"
      ],
      "execution_count": null,
      "outputs": []
    },
    {
      "cell_type": "code",
      "metadata": {
        "id": "iktL32yGxUXF"
      },
      "source": [
        "pred = model.predict(frog[tf.newaxis,]).argmax()"
      ],
      "execution_count": null,
      "outputs": []
    },
    {
      "cell_type": "code",
      "metadata": {
        "id": "WeSJCgAsxWTq"
      },
      "source": [
        "\n",
        "classes[pred]"
      ],
      "execution_count": null,
      "outputs": []
    },
    {
      "cell_type": "code",
      "metadata": {
        "id": "231pvnNjxYV2"
      },
      "source": [
        "\n",
        "plt.imshow(frog_img.astype(\"float64\") / 255.0)\n",
        "plt.title(classes[pred])"
      ],
      "execution_count": null,
      "outputs": []
    },
    {
      "cell_type": "code",
      "metadata": {
        "id": "Kdrbfc80xbE6"
      },
      "source": [
        "plt.bar(list(range(0,10)) , model.predict(frog[tf.newaxis,])[0])"
      ],
      "execution_count": null,
      "outputs": []
    },
    {
      "cell_type": "code",
      "metadata": {
        "id": "h-_m_RLtxew6"
      },
      "source": [
        "def prediction(img_url):\n",
        "    img_name = \"img\"+str(random.randint(0,1000))+\".jpg\"\n",
        "    urllib.request.urlretrieve(img_url , img_name)\n",
        "    img_ = tf.keras.preprocessing.image.load_img(img_name , target_size=(32,32,3))\n",
        "    img_ = tf.keras.preprocessing.image.img_to_array(img_)\n",
        "    img = tf.keras.applications.resnet50.preprocess_input(img_)\n",
        "\n",
        "    p = model.predict(img[tf.newaxis,])\n",
        "    pred = p.argmax()\n",
        "\n",
        "    _ , ax = plt.subplots(1,2,figsize = (12,5))\n",
        "    ax[0].imshow(img_.astype(\"float64\") / 255.0)\n",
        "    ax[0].set_title(classes[pred])\n",
        "\n",
        "    ax[1].bar(list(range(0,10)) , p[0])"
      ],
      "execution_count": null,
      "outputs": []
    },
    {
      "cell_type": "code",
      "metadata": {
        "id": "Pmz5NKoJxhf5"
      },
      "source": [
        "prediction(\"https://static.scientificamerican.com/sciam/cache/file/41DF7DA0-EE58-4259-AA815A390FB37C55_source.jpg\")"
      ],
      "execution_count": null,
      "outputs": []
    },
    {
      "cell_type": "code",
      "metadata": {
        "id": "H8JE7Zvixkk5"
      },
      "source": [
        "prediction(\"https://www.vet.upenn.edu/images/default-source/penn-vet-extra/2019/pve-2-19-nbc2.jpg?sfvrsn=8269eaba_0\")"
      ],
      "execution_count": null,
      "outputs": []
    },
    {
      "cell_type": "code",
      "metadata": {
        "id": "KBOaABbRxo1L"
      },
      "source": [
        "\n",
        "prediction(\"https://etimg.etb2bimg.com/thumb/msid-76805464,imgsize-369078,width-800,height-434,overlay-etauto/etauto-originals-will-china-fade-away-on-the-indian-automobile-turf.jpg\")"
      ],
      "execution_count": null,
      "outputs": []
    },
    {
      "cell_type": "code",
      "metadata": {
        "id": "grCQ1pqnxsSA"
      },
      "source": [
        "prediction(\"https://live.staticflickr.com/65535/48764060802_f4d4f052a2_o.jpg\")"
      ],
      "execution_count": null,
      "outputs": []
    }
  ]
}